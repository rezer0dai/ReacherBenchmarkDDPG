{
 "cells": [
  {
   "cell_type": "markdown",
   "metadata": {},
   "source": [
    "# Reacher ( UnityML ) DDPG benchmark\n",
    "---\n",
    "Implemented : \n",
    "  - DDPG - https://arxiv.org/abs/1509.02971\n",
    "  - n-step ( for HER only experimental ) ~ move it to GAE as in https://arxiv.org/abs/1506.02438\n",
    "  - advantage fction approximation\n",
    "  - NoisyNetworks - https://arxiv.org/abs/1706.10295\n",
    "  - SoftActor-Critic - https://arxiv.org/abs/1801.01290\n",
    "  - Prioritized Experience Replay - https://arxiv.org/abs/1511.05952\n",
    "  - postponed learning + sync\n",
    "  - Normalization - https://github.com/openai/baselines/blob/master/baselines/her/normalizer.py\n",
    "  - clipping gradients - https://pytorch.org/docs/stable/_modules/torch/nn/utils/clip_grad.html\n",
    "  \n",
    "**Disclaimer** : *portions of code borrowed from Udacity repo ( git clone https://github.com/udacity/deep-reinforcement-learning ~ ddpg_pendelum ), as well as learned some usefull quirks ( clipping gradients, hyperparams, 1:1 DDPG model as from original paper ~ except hyperparams, as well as this notebook has pretty much same skeleton and reused code )*\n",
    "\n",
    "### 1. Import the Necessary Packages"
   ]
  },
  {
   "cell_type": "markdown",
   "metadata": {},
   "source": [
    "# RUBRIC\n",
    "\n",
    "DDPG is algorithm for Policy Gradients ( PG ) and especially usefull in continuous control.\n",
    "Problem with PG in general is that those require drawing from distribution, which itself is no \n",
    "issue, except bit perf slowdown, however problems is with efficiently use of experience ( replay buffer ).\n",
    "Why ? because soon samples becomes obsolete, and to estimate gradient signal we need\n",
    "to get their probabilities ( past actions probabilities by current distribution ), which\n",
    "is after several steps too off, and provide useless gradients. To counter this\n",
    "was introduced several algorithms, mainly TRPO ( which seems more like overengineering when \n",
    "confronting with AGI, as do lot of linear search in order to get more sensible actions probs for \n",
    "gradient, which is basically emulation ), on the other side PPO doing it much more simple\n",
    "by surrogating ratio of past and current probability of given action, clever math trick ( approximation ), \n",
    "and on-line sampling ( no replay buffer ). Ok, but both of those basically work in online fashion\n",
    "in terms of using only fresh experience, but forgeting about old, and as a solution to wasting\n",
    "this informations, there comes DDPG. Which is, i suppose, one of major breaktrough in PG, \n",
    "as it is simple, elegant and fast. Basically it does not play with distributions anymore, but then\n",
    "how is possible to get gradient to fix our policy ? well simple, reusing same gradients,\n",
    "as we using in our Value function, as was mathematically proven it is valid and exactly\n",
    "what we need. \n",
    "\n",
    "Besides DDPG trick, algorithm uses Soft Actor-Critic approach, which tackles problems\n",
    "with convergence, as we everytime update network and so predictions become hard to \n",
    "train and very unstable. Instead of updating our prediction network all the time,\n",
    "we will update our explorer/local network in that manner, but for prediction\n",
    "to the future we use separate target network, which is synced with explorer network\n",
    "by small portions ( like 99% of target network mix with 1% of explorer network every\n",
    "X-time we learn and update explorer ). This bring benefit also in form, that in this\n",
    "way we can use our Action-Value function (critic) to use it for approximating \n",
    "advantages ~ check Soft Actor Critic for more fancy details. And Sutton + Barto\n",
    "book for TD learning and others.\n",
    "\n",
    "In contrast to widely used epsilon-greedy or OUNoise approach for exploration,\n",
    "which is in my opinion in lot of times used as expert player ( like for MountainCar environment\n",
    "from OpenAI, OUNoise is basically pro in comparsion to pure random.. ), and\n",
    "i think it is based lot on domain knowledge of given problem, therefore far from AGI>.\n",
    "So I used NoisyNetworks, which applies Gaussian Noise directly to the weights, instead \n",
    "of to final action itself. Check paper for experiments they did. In Tennis project\n",
    "i did several updates, i will explain in following report ..\n",
    "\n",
    "To solve this environment i used DDPG + Soft Actor-Critic + NoisyNetworks, \n",
    "and learn after taking 40 steps ( which in practice means 40 steps * 20 arms as \n",
    "we have shared actor + critic ), and at that point i repeat learning\n",
    "by sampling from Prioritized Experience Buffer about 20 times ( in fact\n",
    "20 * 20 as we have more arms, so in total every 800 step i did 400 gradiend descend ).\n",
    "\n",
    "\n",
    "Man as for hyperparameters, i dont take this much seriouselly, as it is like\n",
    "finding needle in slack ... i can think of 50 different parameters you can tune,\n",
    "and whole RL is basically more alchemy than science, aka even your algorithm\n",
    "works and it is based on nice math, you change little one or two hyperparams\n",
    "and it will not converge anymore. And in addition both environments\n",
    "Tennis or Reacher, are heavilly based on *manualy* crafted reward function,\n",
    "which is in my opinion really not way to go, when we want to approach something\n",
    "close to AGI ... for later mentioned, it is nice research HER, from OpenAI,\n",
    "which tackle reward function for certain tasks ( like fetch, place, reach, .. ),\n",
    "as well as another approach for Curiosity based rewards to solve tasks like \n",
    "labyrinth etc, which i do believe is more way to go and place to invest research.\n",
    "\n",
    "But to comply with rubric, for this project and my settings ( 800 steps vs 400 learnings\n",
    "with 256 batch size ), was essential to have bigger learning rate\n",
    "for actor ( 1e-3 ) than for critic ( 1e-4 ), also i postponed sync target with \n",
    "explorer network in order of 7 gradient descents, i used bigger\n",
    "replay buffer ( 1e6 ) as checking PriorityExperienceBuffer, however\n",
    "when using Random Replay Buffer was ok to use small one ( 7e4 ).\n",
    "Also i used k-step estimates ( 3 ), and advantage instead of full value signal\n",
    "from critic, and used gradient clipping ( norm 1. )\n",
    "And as for Actor / Critic networks ( 400 x 300 params, to ensure rubrick is ok ), \n",
    "i think i blame udacity authors of this problem,\n",
    "as this should be default ( had hardcoded architecture of NN for given problem ), \n",
    "and we should, in solely opinion, focus only on RL\n",
    "part. Not to tune X-parameters with uncertaininty if our NN is capable of learning,\n",
    "man this i really dont get ... and it will consume lot of time with just\n",
    "playing with numbers, doing random search, and trying to explain loss-es,\n",
    "gradients etc in your network, instead of deepening RL knowledge ~ well \n",
    "and i dont believe explaining what our NN doing is more than random search\n",
    "as well, as understanding what really NN is capturing and how, is not one\n",
    "of feature of our understanding, is it ? ~ while i understand it is essential\n",
    "when tackling real world problem, but at course for learning RL is overkill i suppose...\n",
    "~ as in real world scenario you will more play with state representation and\n",
    "undo-over engineering of reward function i suppose"
   ]
  },
  {
   "cell_type": "code",
   "execution_count": 1,
   "metadata": {
    "collapsed": true
   },
   "outputs": [],
   "source": [
    "import gym\n",
    "import random\n",
    "import torch\n",
    "import numpy as np\n",
    "from collections import deque\n",
    "import matplotlib.pyplot as plt\n",
    "%matplotlib inline\n",
    "\n",
    "from ddpg_agent import *\n",
    "\n",
    "agent = Agent(state_size=33, action_size=4, random_seed=2, learning_delay=40, learning_repeat=7)"
   ]
  },
  {
   "cell_type": "markdown",
   "metadata": {},
   "source": [
    "### 2. Instantiate the Environment and Agent"
   ]
  },
  {
   "cell_type": "code",
   "execution_count": 2,
   "metadata": {
    "collapsed": false
   },
   "outputs": [
    {
     "name": "stderr",
     "output_type": "stream",
     "text": [
      "INFO:unityagents:\n",
      "'Academy' started successfully!\n",
      "Unity Academy name: Academy\n",
      "        Number of Brains: 1\n",
      "        Number of External Brains : 1\n",
      "        Lesson number : 0\n",
      "        Reset Parameters :\n",
      "\t\tgoal_speed -> 1.0\n",
      "\t\tgoal_size -> 5.0\n",
      "Unity brain name: ReacherBrain\n",
      "        Number of Visual Observations (per agent): 0\n",
      "        Vector Observation space type: continuous\n",
      "        Vector Observation space size (per agent): 33\n",
      "        Number of stacked Vector Observation: 1\n",
      "        Vector Action space type: continuous\n",
      "        Vector Action space size (per agent): 4\n",
      "        Vector Action descriptions: , , , \n"
     ]
    }
   ],
   "source": [
    "from unityagents import UnityEnvironment\n",
    "ENV = UnityEnvironment(file_name='./data/Reacher.x86_64')\n",
    "BRAIN_NAME = ENV.brain_names[0]"
   ]
  },
  {
   "cell_type": "markdown",
   "metadata": {},
   "source": [
    "### 3. Train the Agent with DDPG"
   ]
  },
  {
   "cell_type": "code",
   "execution_count": 3,
   "metadata": {
    "collapsed": false
   },
   "outputs": [
    {
     "name": "stdout",
     "output_type": "stream",
     "text": [
      "Episode 2\tAverage Score: 0.28             Episode 2\tAverage Score: 0.28 Recent 0.60\n",
      "Episode 4\tAverage Score: 0.48             Episode 4\tAverage Score: 0.48 Recent 1.03\n",
      "Episode 6\tAverage Score: 0.71             Episode 6\tAverage Score: 0.71 Recent 1.16\n",
      "Episode 8\tAverage Score: 0.91             Episode 8\tAverage Score: 0.91 Recent 1.72\n",
      "Episode 10\tAverage Score: 1.17            Episode 10\tAverage Score: 1.17 Recent 2.62\n",
      "Episode 12\tAverage Score: 1.47            Episode 12\tAverage Score: 1.47 Recent 3.32\n",
      "Episode 14\tAverage Score: 1.93            Episode 14\tAverage Score: 1.93 Recent 5.45\n",
      "Episode 16\tAverage Score: 2.52            Episode 16\tAverage Score: 2.52 Recent 8.56\n",
      "Episode 18\tAverage Score: 3.28            Episode 18\tAverage Score: 3.28 Recent 9.99\n",
      "Episode 20\tAverage Score: 4.27            Episode 20\tAverage Score: 4.27 Recent 14.70\n",
      "Episode 22\tAverage Score: 5.37            Episode 22\tAverage Score: 5.37 Recent 16.85\n",
      "Episode 24\tAverage Score: 6.66            Episode 24\tAverage Score: 6.66 Recent 22.61\n",
      "Episode 26\tAverage Score: 8.16            Episode 26\tAverage Score: 8.16 Recent 28.50\n",
      "                                          Episode 27\tAverage Score: 8.96 Recent 30.42DONE! -->  30.419999320060025 27\n",
      "                                          Episode 28\tAverage Score: 9.87 Recent 35.40DONE! -->  35.39649920882668 28\n",
      "Episode 28\tAverage Score: 9.87\n",
      "                                          Episode 29\tAverage Score: 10.75 Recent 36.32DONE! -->  36.32399918809549 29\n",
      "                                          Episode 30\tAverage Score: 11.62 Recent 37.68DONE! -->  37.67799915783118 30\n",
      "Episode 30\tAverage Score: 11.62\n",
      "                                          Episode 31\tAverage Score: 12.44 Recent 37.87DONE! -->  37.86849915357323 31\n",
      "                                          Episode 32\tAverage Score: 13.22 Recent 38.12DONE! -->  38.122999147884784 32\n",
      "Episode 32\tAverage Score: 13.22\n",
      "                                          Episode 33\tAverage Score: 13.96 Recent 38.48DONE! -->  38.4769991399722 33\n",
      "                                          Episode 34\tAverage Score: 14.68 Recent 39.06DONE! -->  39.0634991268629 34\n",
      "Episode 34\tAverage Score: 14.68\n",
      "                                          Episode 35\tAverage Score: 15.34 Recent 38.53DONE! -->  38.534999138675815 35\n",
      "                                          Episode 36\tAverage Score: 15.99 Recent 39.47DONE! -->  39.46799911782146 36\n",
      "Episode 36\tAverage Score: 15.99\n",
      "                                          Episode 37\tAverage Score: 16.61 Recent 39.29DONE! -->  39.28599912188954 37\n",
      "                                          Episode 38\tAverage Score: 17.19 Recent 39.45DONE! -->  39.447999118268484 38\n",
      "Episode 38\tAverage Score: 17.19\n",
      "                                          Episode 39\tAverage Score: 17.74 Recent 39.27DONE! -->  39.269499122258274 39\n",
      "                                          Episode 40\tAverage Score: 18.27 Recent 39.47DONE! -->  39.47349911769852 40\n",
      "Episode 40\tAverage Score: 18.27\n",
      "                                          Episode 41\tAverage Score: 18.77 Recent 38.94DONE! -->  38.9409991296009 41\n",
      "                                          Episode 42\tAverage Score: 19.25 Recent 39.46DONE! -->  39.45549911810085 42\n",
      "Episode 42\tAverage Score: 19.25\n",
      "                                          Episode 43\tAverage Score: 19.71 Recent 39.50DONE! -->  39.50249911705032 43\n",
      "                                          Episode 44\tAverage Score: 20.15 Recent 39.47DONE! -->  39.4729991177097 44\n",
      "Episode 44\tAverage Score: 20.15\n",
      "                                          Episode 45\tAverage Score: 20.57 Recent 39.51DONE! -->  39.50799911692739 45\n",
      "                                          Episode 46\tAverage Score: 20.97 Recent 39.43DONE! -->  39.428499118704345 46\n",
      "Episode 46\tAverage Score: 20.97\n",
      "                                          Episode 47\tAverage Score: 21.35 Recent 39.47DONE! -->  39.469499117787926 47\n",
      "                                          Episode 48\tAverage Score: 21.72 Recent 39.36DONE! -->  39.35699912030252 48\n",
      "Episode 48\tAverage Score: 21.72\n",
      "                                          Episode 49\tAverage Score: 22.08 Recent 39.40DONE! -->  39.400499119330206 49\n",
      "                                          Episode 50\tAverage Score: 22.42 Recent 39.40DONE! -->  39.40449911924079 50\n",
      "Episode 50\tAverage Score: 22.42\n",
      "                                          Episode 51\tAverage Score: 22.74 Recent 39.26DONE! -->  39.258999122493044 51\n",
      "                                          Episode 52\tAverage Score: 23.05 Recent 39.40DONE! -->  39.403999119251964 52\n",
      "Episode 52\tAverage Score: 23.05\n",
      "                                          Episode 53\tAverage Score: 23.36 Recent 39.44DONE! -->  39.43949911845848 53\n",
      "                                          Episode 54\tAverage Score: 23.65 Recent 39.36DONE! -->  39.36099912021315 54\n",
      "Episode 54\tAverage Score: 23.65\n",
      "                                          Episode 55\tAverage Score: 23.93 Recent 39.49DONE! -->  39.49049911731854 55\n",
      "                                          Episode 56\tAverage Score: 24.20 Recent 39.44DONE! -->  39.443999118357894 56\n",
      "Episode 56\tAverage Score: 24.20\n",
      "                                          Episode 57\tAverage Score: 24.46 Recent 39.36DONE! -->  39.36299912016839 57\n",
      "                                          Episode 58\tAverage Score: 24.72 Recent 39.48DONE! -->  39.47749911760911 58\n",
      "Episode 58\tAverage Score: 24.72\n",
      "                                          Episode 59\tAverage Score: 24.96 Recent 39.41DONE! -->  39.41249911906196 59\n",
      "                                          Episode 60\tAverage Score: 25.20 Recent 39.46DONE! -->  39.46399911791086 60\n",
      "Episode 60\tAverage Score: 25.20\n",
      "                                          Episode 61\tAverage Score: 25.43 Recent 39.51DONE! -->  39.50849911691621 61\n",
      "                                          Episode 62\tAverage Score: 25.66 Recent 39.51DONE! -->  39.51049911687151 62\n",
      "Episode 62\tAverage Score: 25.66\n",
      "                                          Episode 63\tAverage Score: 25.87 Recent 39.52DONE! -->  39.521499116625634 63\n",
      "                                          Episode 64\tAverage Score: 26.08 Recent 39.48DONE! -->  39.480999117530885 64\n",
      "Episode 64\tAverage Score: 26.08\n",
      "                                          Episode 65\tAverage Score: 26.28 Recent 39.45DONE! -->  39.44699911829084 65\n",
      "                                          Episode 66\tAverage Score: 26.48 Recent 39.48DONE! -->  39.48199911750853 66\n",
      "Episode 66\tAverage Score: 26.48\n",
      "                                          Episode 67\tAverage Score: 26.67 Recent 39.50DONE! -->  39.49899911712855 67\n",
      "                                          Episode 68\tAverage Score: 26.86 Recent 39.51DONE! -->  39.50799911692739 68\n",
      "Episode 68\tAverage Score: 26.86\n",
      "                                          Episode 69\tAverage Score: 27.04 Recent 39.42DONE! -->  39.423499118816196 69\n",
      "                                          Episode 70\tAverage Score: 27.21 Recent 39.53DONE! -->  39.53249911637978 70\n",
      "Episode 70\tAverage Score: 27.21\n",
      "                                          Episode 71\tAverage Score: 27.38 Recent 39.46DONE! -->  39.45549911810092 71\n",
      "                                          Episode 72\tAverage Score: 27.55 Recent 39.52DONE! -->  39.5244991165586 72\n",
      "Episode 72\tAverage Score: 27.55\n",
      "                                          Episode 73\tAverage Score: 27.71 Recent 39.43DONE! -->  39.432999118603874 73\n",
      "                                          Episode 74\tAverage Score: 27.87 Recent 39.31DONE! -->  39.31149912131965 74\n",
      "Episode 74\tAverage Score: 27.87\n",
      "                                          Episode 75\tAverage Score: 28.02 Recent 39.39DONE! -->  39.394499119464385 75\n",
      "                                          Episode 76\tAverage Score: 28.17 Recent 39.42DONE! -->  39.42399911880497 76\n",
      "Episode 76\tAverage Score: 28.17\n",
      "                                          Episode 77\tAverage Score: 28.31 Recent 39.45DONE! -->  39.448499118257324 77\n",
      "                                          Episode 78\tAverage Score: 28.45 Recent 39.30DONE! -->  39.29949912158788 78\n",
      "Episode 78\tAverage Score: 28.45\n",
      "                                          Episode 79\tAverage Score: 28.59 Recent 39.38DONE! -->  39.382499119732564 79\n",
      "                                          Episode 80\tAverage Score: 28.72 Recent 39.45DONE! -->  39.45249911816798 80\n",
      "Episode 80\tAverage Score: 28.72\n",
      "                                          Episode 81\tAverage Score: 28.85 Recent 39.39DONE! -->  39.38849911959848 81\n",
      "                                          Episode 82\tAverage Score: 28.98 Recent 39.43DONE! -->  39.42949911868207 82\n",
      "Episode 82\tAverage Score: 28.98\n",
      "                                          Episode 83\tAverage Score: 29.10 Recent 38.96DONE! -->  38.9554991292769 83\n",
      "                                          Episode 84\tAverage Score: 29.21 Recent 38.83DONE! -->  38.8259991321713 84\n",
      "Episode 84\tAverage Score: 29.21\n",
      "                                          Episode 85\tAverage Score: 29.33 Recent 39.08DONE! -->  39.08199912644922 85\n",
      "                                          Episode 86\tAverage Score: 29.44 Recent 39.30DONE! -->  39.29649912165487 86\n",
      "Episode 86\tAverage Score: 29.44\n",
      "                                          Episode 87\tAverage Score: 29.55 Recent 39.25DONE! -->  39.24949912270534 87\n",
      "                                          Episode 88\tAverage Score: 29.66 Recent 39.22DONE! -->  39.224499123264195 88\n",
      "Episode 88\tAverage Score: 29.66\n",
      "                                          Episode 89\tAverage Score: 29.77 Recent 39.16DONE! -->  39.15849912473947 89\n",
      "                                          Episode 90\tAverage Score: 29.86 Recent 38.73DONE! -->  38.726999134384364 90\n",
      "Episode 90\tAverage Score: 29.86\n",
      "                                          Episode 91\tAverage Score: 29.96 Recent 38.95DONE! -->  38.95199912935515 91\n",
      "                                          Episode 92\tAverage Score: 30.06 Recent 39.01DONE! -->  39.01199912801397 92\n",
      "Episode 92\tAverage Score: 30.06\n"
     ]
    }
   ],
   "source": [
    "def save_model():\n",
    "    for i, l in enumerate(agent.ac_explorer.actor.layers):\n",
    "        torch.save(l.state_dict(), 'checkpoint_explorer_nes_layer_%i.pth'%i)\n",
    "    for i, l in enumerate(agent.ac_target.actor.layers):\n",
    "        torch.save(l.state_dict(), 'checkpoint_target_nes_layer_%i.pth'%i)\n",
    "        \n",
    "    torch.save(agent.ac_explorer.state_dict(), 'checkpoint_explorer.pth')\n",
    "    torch.save(agent.ac_target.state_dict(), 'checkpoint_target.pth')\n",
    "\n",
    "def ddpg(max_t=1001, print_every=2):\n",
    "    scores_deque = deque(maxlen=100)\n",
    "    scores_deque.append(0)\n",
    "    scores = []\n",
    "    while np.mean(scores_deque) < 30.:\n",
    "        n_states = deque(maxlen=N_STEP)\n",
    "        n_actions = deque(maxlen=N_STEP)\n",
    "        n_rewards = deque(maxlen=N_STEP)\n",
    "        \n",
    "        td_lamda = lambda: map(\n",
    "                lambda i: sum(map(lambda j: n_rewards[j][i] * (GAMMA ** j), range(N_STEP))),\n",
    "                range(len(n_rewards[0])))\n",
    "        \n",
    "        score = 0\n",
    "        einfo = ENV.reset()[BRAIN_NAME]\n",
    "        for t in range(max_t):\n",
    "            states = einfo.vector_observations.copy()\n",
    "            actions = agent.explore(states)\n",
    "            einfo = ENV.step(actions.reshape(-1))[BRAIN_NAME]\n",
    "            \n",
    "            if t > N_STEP:\n",
    "                for s, a, r, n in zip(                \n",
    "                    n_states[0],\n",
    "                    n_actions[0].reshape(len(states), -1),\n",
    "                    td_lamda(),\n",
    "                    states): agent.step(s, a, r, n, t)\n",
    "                \n",
    "            n_states.append(states)\n",
    "            n_actions.append(actions)\n",
    "            n_rewards.append(einfo.rewards)\n",
    "            \n",
    "            score += np.mean(einfo.rewards)\n",
    "            if sum(einfo.local_done):\n",
    "                break \n",
    "                \n",
    "            print('\\r[{}] steps :: {} {:.2f}'.format(len(scores), t, score), end=\"\")\n",
    "\n",
    "        scores_deque.append(score)\n",
    "        scores.append(score)\n",
    "        \n",
    "        print('\\r{}Episode {}\\tAverage Score: {:.2f} Recent {:.2f}'.format(\n",
    "            (' ' * 42), len(scores), np.mean(scores_deque), score), end=\"\")\n",
    "        \n",
    "        if score > 30.:\n",
    "            print(\"DONE! --> \", score, len(scores))\n",
    "        \n",
    "        save_model()\n",
    "        if len(scores) % print_every == 0:\n",
    "            print('\\rEpisode {}\\tAverage Score: {:.2f}'.format(len(scores), np.mean(scores_deque)))\n",
    "            \n",
    "    return scores\n",
    "\n",
    "scores = ddpg()"
   ]
  },
  {
   "cell_type": "markdown",
   "metadata": {},
   "source": [
    "### 4. Plot reward ( TODO: loss-es )"
   ]
  },
  {
   "cell_type": "code",
   "execution_count": 4,
   "metadata": {
    "collapsed": false
   },
   "outputs": [
    {
     "data": {
      "image/png": "[encoded data removed]",
      "text/plain": [
       "<Figure size 432x288 with 1 Axes>"
      ]
     },
     "metadata": {
      "needs_background": "light"
     },
     "output_type": "display_data"
    }
   ],
   "source": [
    "fig = plt.figure()\n",
    "ax = fig.add_subplot(111)\n",
    "plt.plot(np.arange(1, len(scores)+1), scores)\n",
    "plt.ylabel('Score')\n",
    "plt.xlabel('Episode #')\n",
    "plt.show() "
   ]
  },
  {
   "cell_type": "markdown",
   "metadata": {},
   "source": [
    "### 4.Reload trained agent"
   ]
  },
  {
   "cell_type": "code",
   "execution_count": 8,
   "metadata": {
    "collapsed": true
   },
   "outputs": [],
   "source": [
    "agent.ac_explorer.load_state_dict(torch.load('checkpoint_explorer.pth'))\n",
    "agent.ac_target.load_state_dict(torch.load('checkpoint_target.pth'))\n",
    "\n",
    "for i, l in enumerate(agent.ac_explorer.actor.layers):\n",
    "    l.load_state_dict(torch.load('checkpoint_explorer_nes_layer_%i.pth'%i))\n",
    "for i, l in enumerate(agent.ac_target.actor.layers):\n",
    "    l.load_state_dict(torch.load('checkpoint_target_nes_layer_%i.pth'%i))"
   ]
  },
  {
   "cell_type": "markdown",
   "metadata": {},
   "source": [
    "### 5. Test visuals - EXPLORER"
   ]
  },
  {
   "cell_type": "code",
   "execution_count": 10,
   "metadata": {
    "collapsed": true
   },
   "outputs": [],
   "source": [
    "einfo = ENV.reset()[BRAIN_NAME]\n",
    "while not sum(einfo.local_done):\n",
    "    states = einfo.vector_observations.copy()\n",
    "    actions = agent.explore(states)\n",
    "    einfo = ENV.step(actions.reshape(-1))[BRAIN_NAME]"
   ]
  },
  {
   "cell_type": "markdown",
   "metadata": {},
   "source": [
    "### 6. Test visuals - TARGET"
   ]
  },
  {
   "cell_type": "code",
   "execution_count": 7,
   "metadata": {
    "collapsed": true
   },
   "outputs": [],
   "source": [
    "einfo = ENV.reset()[BRAIN_NAME]\n",
    "while not sum(einfo.local_done):\n",
    "    states = einfo.vector_observations.copy()\n",
    "    actions = agent.exploit(states)\n",
    "    einfo = ENV.step(actions.reshape(-1))[BRAIN_NAME]"
   ]
  },
  {
   "cell_type": "markdown",
   "metadata": {},
   "source": [
    "### 7. Close environment, we are done!"
   ]
  },
  {
   "cell_type": "code",
   "execution_count": null,
   "metadata": {
    "collapsed": true
   },
   "outputs": [],
   "source": [
    "ENV.close()"
   ]
  },
  {
   "cell_type": "markdown",
   "metadata": {},
   "source": [
    "### 6. TODO\n",
    "\n",
    "Port it to my wheeler framework; this should server as a benchmark ~ faster, easier to play with\n",
    "- on framework we can test : \n",
    "  - HER - https://arxiv.org/abs/1707.01495\n",
    "  - cooperation PPO + DDPG\n",
    "  - multi-task\n",
    "  - prio buffer by curiosity\n",
    "  - detached ACtor + Critic ( local from target networks )"
   ]
  }
 ],
 "metadata": {
  "anaconda-cloud": {},
  "kernelspec": {
   "display_name": "Python [Anaconda3]",
   "language": "python",
   "name": "Python [Anaconda3]"
  },
  "language_info": {
   "codemirror_mode": {
    "name": "ipython",
    "version": 3
   },
   "file_extension": ".py",
   "mimetype": "text/x-python",
   "name": "python",
   "nbconvert_exporter": "python",
   "pygments_lexer": "ipython3",
   "version": "3.5.5"
  }
 },
 "nbformat": 4,
 "nbformat_minor": 2
}
